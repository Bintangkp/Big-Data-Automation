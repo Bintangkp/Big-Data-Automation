{
 "cells": [
  {
   "cell_type": "code",
   "execution_count": 1,
   "metadata": {},
   "outputs": [],
   "source": [
    "import pandas as pd\n",
    "import great_expectations as ge\n",
    "import datetime"
   ]
  },
  {
   "cell_type": "code",
   "execution_count": null,
   "metadata": {},
   "outputs": [
    {
     "data": {
      "application/vnd.microsoft.datawrangler.viewer.v0+json": {
       "columns": [
        {
         "name": "index",
         "rawType": "int64",
         "type": "integer"
        },
        {
         "name": "Transaction ID",
         "rawType": "object",
         "type": "string"
        },
        {
         "name": "Customer ID",
         "rawType": "object",
         "type": "string"
        },
        {
         "name": "Category",
         "rawType": "object",
         "type": "string"
        },
        {
         "name": "Item",
         "rawType": "object",
         "type": "string"
        },
        {
         "name": "Price Per Unit",
         "rawType": "float64",
         "type": "float"
        },
        {
         "name": "Quantity",
         "rawType": "float64",
         "type": "float"
        },
        {
         "name": "Total Spent",
         "rawType": "float64",
         "type": "float"
        },
        {
         "name": "Payment Method",
         "rawType": "object",
         "type": "string"
        },
        {
         "name": "Location",
         "rawType": "object",
         "type": "string"
        },
        {
         "name": "Transaction Date",
         "rawType": "object",
         "type": "string"
        },
        {
         "name": "Discount Applied",
         "rawType": "object",
         "type": "unknown"
        }
       ],
       "conversionMethod": "pd.DataFrame",
       "ref": "0198f38f-7e24-411e-a969-141d15dd6e06",
       "rows": [
        [
         "0",
         "TXN_6867343",
         "CUST_09",
         "Patisserie",
         "Item_10_PAT",
         "18.5",
         "10.0",
         "185.0",
         "Digital Wallet",
         "Online",
         "2024-04-08",
         "True"
        ],
        [
         "1",
         "TXN_3731986",
         "CUST_22",
         "Milk Products",
         "Item_17_MILK",
         "29.0",
         "9.0",
         "261.0",
         "Digital Wallet",
         "Online",
         "2023-07-23",
         "True"
        ],
        [
         "2",
         "TXN_9303719",
         "CUST_02",
         "Butchers",
         "Item_12_BUT",
         "21.5",
         "2.0",
         "43.0",
         "Credit Card",
         "Online",
         "2022-10-05",
         "False"
        ],
        [
         "3",
         "TXN_9458126",
         "CUST_06",
         "Beverages",
         "Item_16_BEV",
         "27.5",
         "9.0",
         "247.5",
         "Credit Card",
         "Online",
         "2022-05-07",
         null
        ],
        [
         "4",
         "TXN_4575373",
         "CUST_05",
         "Food",
         "Item_6_FOOD",
         "12.5",
         "7.0",
         "87.5",
         "Digital Wallet",
         "Online",
         "2022-10-02",
         "False"
        ]
       ],
       "shape": {
        "columns": 11,
        "rows": 5
       }
      },
      "text/html": [
       "<div>\n",
       "<style scoped>\n",
       "    .dataframe tbody tr th:only-of-type {\n",
       "        vertical-align: middle;\n",
       "    }\n",
       "\n",
       "    .dataframe tbody tr th {\n",
       "        vertical-align: top;\n",
       "    }\n",
       "\n",
       "    .dataframe thead th {\n",
       "        text-align: right;\n",
       "    }\n",
       "</style>\n",
       "<table border=\"1\" class=\"dataframe\">\n",
       "  <thead>\n",
       "    <tr style=\"text-align: right;\">\n",
       "      <th></th>\n",
       "      <th>Transaction ID</th>\n",
       "      <th>Customer ID</th>\n",
       "      <th>Category</th>\n",
       "      <th>Item</th>\n",
       "      <th>Price Per Unit</th>\n",
       "      <th>Quantity</th>\n",
       "      <th>Total Spent</th>\n",
       "      <th>Payment Method</th>\n",
       "      <th>Location</th>\n",
       "      <th>Transaction Date</th>\n",
       "      <th>Discount Applied</th>\n",
       "    </tr>\n",
       "  </thead>\n",
       "  <tbody>\n",
       "    <tr>\n",
       "      <th>0</th>\n",
       "      <td>TXN_6867343</td>\n",
       "      <td>CUST_09</td>\n",
       "      <td>Patisserie</td>\n",
       "      <td>Item_10_PAT</td>\n",
       "      <td>18.5</td>\n",
       "      <td>10.0</td>\n",
       "      <td>185.0</td>\n",
       "      <td>Digital Wallet</td>\n",
       "      <td>Online</td>\n",
       "      <td>2024-04-08</td>\n",
       "      <td>True</td>\n",
       "    </tr>\n",
       "    <tr>\n",
       "      <th>1</th>\n",
       "      <td>TXN_3731986</td>\n",
       "      <td>CUST_22</td>\n",
       "      <td>Milk Products</td>\n",
       "      <td>Item_17_MILK</td>\n",
       "      <td>29.0</td>\n",
       "      <td>9.0</td>\n",
       "      <td>261.0</td>\n",
       "      <td>Digital Wallet</td>\n",
       "      <td>Online</td>\n",
       "      <td>2023-07-23</td>\n",
       "      <td>True</td>\n",
       "    </tr>\n",
       "    <tr>\n",
       "      <th>2</th>\n",
       "      <td>TXN_9303719</td>\n",
       "      <td>CUST_02</td>\n",
       "      <td>Butchers</td>\n",
       "      <td>Item_12_BUT</td>\n",
       "      <td>21.5</td>\n",
       "      <td>2.0</td>\n",
       "      <td>43.0</td>\n",
       "      <td>Credit Card</td>\n",
       "      <td>Online</td>\n",
       "      <td>2022-10-05</td>\n",
       "      <td>False</td>\n",
       "    </tr>\n",
       "    <tr>\n",
       "      <th>3</th>\n",
       "      <td>TXN_9458126</td>\n",
       "      <td>CUST_06</td>\n",
       "      <td>Beverages</td>\n",
       "      <td>Item_16_BEV</td>\n",
       "      <td>27.5</td>\n",
       "      <td>9.0</td>\n",
       "      <td>247.5</td>\n",
       "      <td>Credit Card</td>\n",
       "      <td>Online</td>\n",
       "      <td>2022-05-07</td>\n",
       "      <td>NaN</td>\n",
       "    </tr>\n",
       "    <tr>\n",
       "      <th>4</th>\n",
       "      <td>TXN_4575373</td>\n",
       "      <td>CUST_05</td>\n",
       "      <td>Food</td>\n",
       "      <td>Item_6_FOOD</td>\n",
       "      <td>12.5</td>\n",
       "      <td>7.0</td>\n",
       "      <td>87.5</td>\n",
       "      <td>Digital Wallet</td>\n",
       "      <td>Online</td>\n",
       "      <td>2022-10-02</td>\n",
       "      <td>False</td>\n",
       "    </tr>\n",
       "  </tbody>\n",
       "</table>\n",
       "</div>"
      ],
      "text/plain": [
       "  Transaction ID Customer ID       Category          Item  Price Per Unit  \\\n",
       "0    TXN_6867343     CUST_09     Patisserie   Item_10_PAT            18.5   \n",
       "1    TXN_3731986     CUST_22  Milk Products  Item_17_MILK            29.0   \n",
       "2    TXN_9303719     CUST_02       Butchers   Item_12_BUT            21.5   \n",
       "3    TXN_9458126     CUST_06      Beverages   Item_16_BEV            27.5   \n",
       "4    TXN_4575373     CUST_05           Food   Item_6_FOOD            12.5   \n",
       "\n",
       "   Quantity  Total Spent  Payment Method Location Transaction Date  \\\n",
       "0      10.0        185.0  Digital Wallet   Online       2024-04-08   \n",
       "1       9.0        261.0  Digital Wallet   Online       2023-07-23   \n",
       "2       2.0         43.0     Credit Card   Online       2022-10-05   \n",
       "3       9.0        247.5     Credit Card   Online       2022-05-07   \n",
       "4       7.0         87.5  Digital Wallet   Online       2022-10-02   \n",
       "\n",
       "  Discount Applied  \n",
       "0             True  \n",
       "1             True  \n",
       "2            False  \n",
       "3              NaN  \n",
       "4            False  "
      ]
     },
     "execution_count": 2,
     "metadata": {},
     "output_type": "execute_result"
    }
   ],
   "source": [
    "# Path file csv yg akan di ubah menjadi dataframe\n",
    "file_path = 'D:\\Hacktiv8\\MILESTONE\\P2M3\\Dataset.csv'\n",
    "\n",
    "# Input file csv ke dalam dataframe\n",
    "df = pd.read_csv(file_path)\n",
    "        \n",
    "# Tampilkan head atau 5 data pertama dari dataframe\n",
    "df.head()"
   ]
  },
  {
   "cell_type": "code",
   "execution_count": 3,
   "metadata": {},
   "outputs": [
    {
     "name": "stdout",
     "output_type": "stream",
     "text": [
      "<class 'pandas.core.frame.DataFrame'>\n",
      "RangeIndex: 12575 entries, 0 to 12574\n",
      "Data columns (total 11 columns):\n",
      " #   Column            Non-Null Count  Dtype  \n",
      "---  ------            --------------  -----  \n",
      " 0   Transaction ID    12575 non-null  object \n",
      " 1   Customer ID       12575 non-null  object \n",
      " 2   Category          12575 non-null  object \n",
      " 3   Item              11362 non-null  object \n",
      " 4   Price Per Unit    11966 non-null  float64\n",
      " 5   Quantity          11971 non-null  float64\n",
      " 6   Total Spent       11971 non-null  float64\n",
      " 7   Payment Method    12575 non-null  object \n",
      " 8   Location          12575 non-null  object \n",
      " 9   Transaction Date  12575 non-null  object \n",
      " 10  Discount Applied  8376 non-null   object \n",
      "dtypes: float64(3), object(8)\n",
      "memory usage: 1.1+ MB\n"
     ]
    }
   ],
   "source": [
    "#Cek tipe data\n",
    "df.info()"
   ]
  },
  {
   "cell_type": "code",
   "execution_count": 4,
   "metadata": {},
   "outputs": [
    {
     "data": {
      "text/plain": [
       "Transaction ID         0\n",
       "Customer ID            0\n",
       "Category               0\n",
       "Item                1213\n",
       "Price Per Unit       609\n",
       "Quantity             604\n",
       "Total Spent          604\n",
       "Payment Method         0\n",
       "Location               0\n",
       "Transaction Date       0\n",
       "Discount Applied    4199\n",
       "dtype: int64"
      ]
     },
     "execution_count": 4,
     "metadata": {},
     "output_type": "execute_result"
    }
   ],
   "source": [
    "# Cek jumlah missing values per kolom\n",
    "df.isnull().sum()"
   ]
  },
  {
   "cell_type": "code",
   "execution_count": 5,
   "metadata": {},
   "outputs": [
    {
     "data": {
      "application/vnd.microsoft.datawrangler.viewer.v0+json": {
       "columns": [
        {
         "name": "index",
         "rawType": "int64",
         "type": "integer"
        },
        {
         "name": "Transaction ID",
         "rawType": "object",
         "type": "string"
        },
        {
         "name": "Customer ID",
         "rawType": "object",
         "type": "string"
        },
        {
         "name": "Category",
         "rawType": "object",
         "type": "string"
        },
        {
         "name": "Item",
         "rawType": "object",
         "type": "string"
        },
        {
         "name": "Price Per Unit",
         "rawType": "float64",
         "type": "float"
        },
        {
         "name": "Quantity",
         "rawType": "float64",
         "type": "float"
        },
        {
         "name": "Total Spent",
         "rawType": "float64",
         "type": "float"
        },
        {
         "name": "Payment Method",
         "rawType": "object",
         "type": "string"
        },
        {
         "name": "Location",
         "rawType": "object",
         "type": "string"
        },
        {
         "name": "Transaction Date",
         "rawType": "object",
         "type": "string"
        },
        {
         "name": "Discount Applied",
         "rawType": "bool",
         "type": "boolean"
        }
       ],
       "conversionMethod": "pd.DataFrame",
       "ref": "b4c7039a-9f37-4ec9-959d-0e95459cfb4f",
       "rows": [
        [
         "0",
         "TXN_6867343",
         "CUST_09",
         "Patisserie",
         "Item_10_PAT",
         "18.5",
         "10.0",
         "185.0",
         "Digital Wallet",
         "Online",
         "2024-04-08",
         "True"
        ],
        [
         "1",
         "TXN_3731986",
         "CUST_22",
         "Milk Products",
         "Item_17_MILK",
         "29.0",
         "9.0",
         "261.0",
         "Digital Wallet",
         "Online",
         "2023-07-23",
         "True"
        ],
        [
         "2",
         "TXN_9303719",
         "CUST_02",
         "Butchers",
         "Item_12_BUT",
         "21.5",
         "2.0",
         "43.0",
         "Credit Card",
         "Online",
         "2022-10-05",
         "False"
        ],
        [
         "3",
         "TXN_9458126",
         "CUST_06",
         "Beverages",
         "Item_16_BEV",
         "27.5",
         "9.0",
         "247.5",
         "Credit Card",
         "Online",
         "2022-05-07",
         "False"
        ],
        [
         "4",
         "TXN_4575373",
         "CUST_05",
         "Food",
         "Item_6_FOOD",
         "12.5",
         "7.0",
         "87.5",
         "Digital Wallet",
         "Online",
         "2022-10-02",
         "False"
        ],
        [
         "5",
         "TXN_7482416",
         "CUST_09",
         "Patisserie",
         "Unknown",
         "0.0",
         "10.0",
         "200.0",
         "Credit Card",
         "Online",
         "2023-11-30",
         "False"
        ],
        [
         "6",
         "TXN_3652209",
         "CUST_07",
         "Food",
         "Item_1_FOOD",
         "5.0",
         "8.0",
         "40.0",
         "Credit Card",
         "In-store",
         "2023-06-10",
         "True"
        ],
        [
         "7",
         "TXN_1372952",
         "CUST_21",
         "Furniture",
         "Unknown",
         "33.5",
         "0.0",
         "0.0",
         "Digital Wallet",
         "In-store",
         "2024-04-02",
         "True"
        ],
        [
         "8",
         "TXN_9728486",
         "CUST_23",
         "Furniture",
         "Item_16_FUR",
         "27.5",
         "1.0",
         "27.5",
         "Credit Card",
         "In-store",
         "2023-04-26",
         "False"
        ],
        [
         "9",
         "TXN_2722661",
         "CUST_25",
         "Butchers",
         "Item_22_BUT",
         "36.5",
         "3.0",
         "109.5",
         "Cash",
         "Online",
         "2024-03-14",
         "False"
        ],
        [
         "10",
         "TXN_8776416",
         "CUST_22",
         "Butchers",
         "Item_3_BUT",
         "8.0",
         "9.0",
         "72.0",
         "Cash",
         "In-store",
         "2024-12-14",
         "True"
        ],
        [
         "11",
         "TXN_5422631",
         "CUST_09",
         "Milk Products",
         "Unknown",
         "0.0",
         "8.0",
         "52.0",
         "Digital Wallet",
         "In-store",
         "2025-01-12",
         "True"
        ],
        [
         "12",
         "TXN_5874772",
         "CUST_23",
         "Food",
         "Item_2_FOOD",
         "6.5",
         "7.0",
         "45.5",
         "Cash",
         "Online",
         "2023-09-09",
         "True"
        ],
        [
         "13",
         "TXN_4413070",
         "CUST_14",
         "Patisserie",
         "Item_24_PAT",
         "39.5",
         "6.0",
         "237.0",
         "Digital Wallet",
         "In-store",
         "2022-05-20",
         "False"
        ],
        [
         "14",
         "TXN_2490363",
         "CUST_09",
         "Milk Products",
         "Item_16_MILK",
         "27.5",
         "2.0",
         "55.0",
         "Digital Wallet",
         "Online",
         "2022-05-22",
         "False"
        ],
        [
         "15",
         "TXN_1809665",
         "CUST_14",
         "Beverages",
         "Unknown",
         "24.5",
         "0.0",
         "0.0",
         "Credit Card",
         "In-store",
         "2022-05-11",
         "False"
        ],
        [
         "16",
         "TXN_7563311",
         "CUST_23",
         "Patisserie",
         "Item_17_PAT",
         "29.0",
         "8.0",
         "232.0",
         "Cash",
         "Online",
         "2024-11-16",
         "True"
        ],
        [
         "17",
         "TXN_9634894",
         "CUST_15",
         "Milk Products",
         "Unknown",
         "0.0",
         "10.0",
         "275.0",
         "Digital Wallet",
         "Online",
         "2022-04-17",
         "False"
        ],
        [
         "18",
         "TXN_4396807",
         "CUST_17",
         "Electric household essentials",
         "Item_13_EHE",
         "23.0",
         "1.0",
         "23.0",
         "Digital Wallet",
         "In-store",
         "2022-02-07",
         "False"
        ],
        [
         "19",
         "TXN_4206593",
         "CUST_01",
         "Furniture",
         "Unknown",
         "35.0",
         "0.0",
         "0.0",
         "Digital Wallet",
         "Online",
         "2025-01-13",
         "False"
        ],
        [
         "20",
         "TXN_9939063",
         "CUST_14",
         "Beverages",
         "Item_7_BEV",
         "14.0",
         "9.0",
         "126.0",
         "Digital Wallet",
         "In-store",
         "2024-01-14",
         "False"
        ],
        [
         "21",
         "TXN_8685338",
         "CUST_15",
         "Milk Products",
         "Unknown",
         "0.0",
         "3.0",
         "105.0",
         "Credit Card",
         "In-store",
         "2023-10-29",
         "False"
        ],
        [
         "22",
         "TXN_6547964",
         "CUST_10",
         "Electric household essentials",
         "Item_4_EHE",
         "9.5",
         "7.0",
         "66.5",
         "Cash",
         "In-store",
         "2022-08-15",
         "False"
        ],
        [
         "23",
         "TXN_3314099",
         "CUST_04",
         "Food",
         "Item_10_FOOD",
         "18.5",
         "1.0",
         "18.5",
         "Cash",
         "Online",
         "2023-09-30",
         "False"
        ],
        [
         "24",
         "TXN_9980736",
         "CUST_13",
         "Furniture",
         "Item_14_FUR",
         "24.5",
         "2.0",
         "49.0",
         "Cash",
         "Online",
         "2023-08-29",
         "False"
        ],
        [
         "25",
         "TXN_3481599",
         "CUST_05",
         "Furniture",
         "Unknown",
         "39.5",
         "0.0",
         "0.0",
         "Cash",
         "Online",
         "2022-09-08",
         "False"
        ],
        [
         "26",
         "TXN_9057609",
         "CUST_18",
         "Butchers",
         "Item_20_BUT",
         "33.5",
         "4.0",
         "134.0",
         "Credit Card",
         "In-store",
         "2022-03-16",
         "True"
        ],
        [
         "27",
         "TXN_1599706",
         "CUST_14",
         "Furniture",
         "Item_25_FUR",
         "41.0",
         "10.0",
         "410.0",
         "Credit Card",
         "In-store",
         "2024-03-24",
         "True"
        ],
        [
         "28",
         "TXN_1598860",
         "CUST_08",
         "Food",
         "Item_14_FOOD",
         "24.5",
         "10.0",
         "245.0",
         "Cash",
         "In-store",
         "2022-10-23",
         "True"
        ],
        [
         "29",
         "TXN_7138501",
         "CUST_18",
         "Patisserie",
         "Item_22_PAT",
         "36.5",
         "5.0",
         "182.5",
         "Credit Card",
         "In-store",
         "2022-03-10",
         "False"
        ],
        [
         "30",
         "TXN_5444504",
         "CUST_05",
         "Food",
         "Item_11_FOOD",
         "20.0",
         "10.0",
         "200.0",
         "Digital Wallet",
         "Online",
         "2022-04-26",
         "False"
        ],
        [
         "31",
         "TXN_4353295",
         "CUST_22",
         "Patisserie",
         "Item_6_PAT",
         "12.5",
         "8.0",
         "100.0",
         "Credit Card",
         "Online",
         "2022-04-05",
         "True"
        ],
        [
         "32",
         "TXN_1543244",
         "CUST_20",
         "Food",
         "Unknown",
         "0.0",
         "8.0",
         "196.0",
         "Credit Card",
         "Online",
         "2024-10-25",
         "True"
        ],
        [
         "33",
         "TXN_1494700",
         "CUST_12",
         "Electric household essentials",
         "Item_21_EHE",
         "35.0",
         "9.0",
         "315.0",
         "Credit Card",
         "In-store",
         "2024-03-07",
         "False"
        ],
        [
         "34",
         "TXN_1621497",
         "CUST_06",
         "Patisserie",
         "Unknown",
         "23.0",
         "0.0",
         "0.0",
         "Cash",
         "In-store",
         "2023-02-18",
         "False"
        ],
        [
         "35",
         "TXN_6398436",
         "CUST_15",
         "Beverages",
         "Item_25_BEV",
         "41.0",
         "7.0",
         "287.0",
         "Credit Card",
         "In-store",
         "2024-06-03",
         "True"
        ],
        [
         "36",
         "TXN_9065245",
         "CUST_02",
         "Food",
         "Item_23_FOOD",
         "38.0",
         "2.0",
         "76.0",
         "Digital Wallet",
         "In-store",
         "2024-03-10",
         "False"
        ],
        [
         "37",
         "TXN_6963438",
         "CUST_11",
         "Furniture",
         "Item_10_FUR",
         "18.5",
         "5.0",
         "92.5",
         "Credit Card",
         "Online",
         "2024-04-23",
         "True"
        ],
        [
         "38",
         "TXN_8312797",
         "CUST_14",
         "Beverages",
         "Item_11_BEV",
         "20.0",
         "5.0",
         "100.0",
         "Digital Wallet",
         "Online",
         "2022-06-03",
         "False"
        ],
        [
         "39",
         "TXN_5836005",
         "CUST_19",
         "Butchers",
         "Item_23_BUT",
         "38.0",
         "5.0",
         "190.0",
         "Credit Card",
         "In-store",
         "2024-10-19",
         "False"
        ],
        [
         "40",
         "TXN_4223250",
         "CUST_16",
         "Beverages",
         "Item_22_BEV",
         "36.5",
         "7.0",
         "255.5",
         "Cash",
         "Online",
         "2023-05-31",
         "True"
        ],
        [
         "41",
         "TXN_1019817",
         "CUST_16",
         "Electric household essentials",
         "Item_10_EHE",
         "18.5",
         "5.0",
         "92.5",
         "Cash",
         "Online",
         "2022-08-01",
         "False"
        ],
        [
         "42",
         "TXN_1110407",
         "CUST_25",
         "Butchers",
         "Item_24_BUT",
         "39.5",
         "7.0",
         "276.5",
         "Digital Wallet",
         "In-store",
         "2022-10-21",
         "False"
        ],
        [
         "43",
         "TXN_6276518",
         "CUST_24",
         "Beverages",
         "Item_8_BEV",
         "15.5",
         "3.0",
         "46.5",
         "Cash",
         "In-store",
         "2024-04-08",
         "False"
        ],
        [
         "44",
         "TXN_4740738",
         "CUST_25",
         "Food",
         "Item_3_FOOD",
         "8.0",
         "1.0",
         "8.0",
         "Digital Wallet",
         "In-store",
         "2022-04-19",
         "False"
        ],
        [
         "45",
         "TXN_9587232",
         "CUST_20",
         "Food",
         "Item_12_FOOD",
         "21.5",
         "5.0",
         "107.5",
         "Digital Wallet",
         "Online",
         "2023-02-28",
         "True"
        ],
        [
         "46",
         "TXN_6404316",
         "CUST_04",
         "Computers and electric accessories",
         "Item_16_CEA",
         "27.5",
         "6.0",
         "165.0",
         "Credit Card",
         "Online",
         "2022-04-06",
         "False"
        ],
        [
         "47",
         "TXN_9331642",
         "CUST_12",
         "Patisserie",
         "Item_11_PAT",
         "20.0",
         "4.0",
         "80.0",
         "Credit Card",
         "Online",
         "2022-07-06",
         "True"
        ],
        [
         "48",
         "TXN_9729422",
         "CUST_13",
         "Butchers",
         "Item_16_BUT",
         "27.5",
         "6.0",
         "165.0",
         "Credit Card",
         "Online",
         "2024-12-31",
         "True"
        ],
        [
         "49",
         "TXN_8425168",
         "CUST_25",
         "Milk Products",
         "Item_16_MILK",
         "27.5",
         "7.0",
         "192.5",
         "Cash",
         "In-store",
         "2022-03-12",
         "False"
        ]
       ],
       "shape": {
        "columns": 11,
        "rows": 12575
       }
      },
      "text/html": [
       "<div>\n",
       "<style scoped>\n",
       "    .dataframe tbody tr th:only-of-type {\n",
       "        vertical-align: middle;\n",
       "    }\n",
       "\n",
       "    .dataframe tbody tr th {\n",
       "        vertical-align: top;\n",
       "    }\n",
       "\n",
       "    .dataframe thead th {\n",
       "        text-align: right;\n",
       "    }\n",
       "</style>\n",
       "<table border=\"1\" class=\"dataframe\">\n",
       "  <thead>\n",
       "    <tr style=\"text-align: right;\">\n",
       "      <th></th>\n",
       "      <th>Transaction ID</th>\n",
       "      <th>Customer ID</th>\n",
       "      <th>Category</th>\n",
       "      <th>Item</th>\n",
       "      <th>Price Per Unit</th>\n",
       "      <th>Quantity</th>\n",
       "      <th>Total Spent</th>\n",
       "      <th>Payment Method</th>\n",
       "      <th>Location</th>\n",
       "      <th>Transaction Date</th>\n",
       "      <th>Discount Applied</th>\n",
       "    </tr>\n",
       "  </thead>\n",
       "  <tbody>\n",
       "    <tr>\n",
       "      <th>0</th>\n",
       "      <td>TXN_6867343</td>\n",
       "      <td>CUST_09</td>\n",
       "      <td>Patisserie</td>\n",
       "      <td>Item_10_PAT</td>\n",
       "      <td>18.5</td>\n",
       "      <td>10.0</td>\n",
       "      <td>185.0</td>\n",
       "      <td>Digital Wallet</td>\n",
       "      <td>Online</td>\n",
       "      <td>2024-04-08</td>\n",
       "      <td>True</td>\n",
       "    </tr>\n",
       "    <tr>\n",
       "      <th>1</th>\n",
       "      <td>TXN_3731986</td>\n",
       "      <td>CUST_22</td>\n",
       "      <td>Milk Products</td>\n",
       "      <td>Item_17_MILK</td>\n",
       "      <td>29.0</td>\n",
       "      <td>9.0</td>\n",
       "      <td>261.0</td>\n",
       "      <td>Digital Wallet</td>\n",
       "      <td>Online</td>\n",
       "      <td>2023-07-23</td>\n",
       "      <td>True</td>\n",
       "    </tr>\n",
       "    <tr>\n",
       "      <th>2</th>\n",
       "      <td>TXN_9303719</td>\n",
       "      <td>CUST_02</td>\n",
       "      <td>Butchers</td>\n",
       "      <td>Item_12_BUT</td>\n",
       "      <td>21.5</td>\n",
       "      <td>2.0</td>\n",
       "      <td>43.0</td>\n",
       "      <td>Credit Card</td>\n",
       "      <td>Online</td>\n",
       "      <td>2022-10-05</td>\n",
       "      <td>False</td>\n",
       "    </tr>\n",
       "    <tr>\n",
       "      <th>3</th>\n",
       "      <td>TXN_9458126</td>\n",
       "      <td>CUST_06</td>\n",
       "      <td>Beverages</td>\n",
       "      <td>Item_16_BEV</td>\n",
       "      <td>27.5</td>\n",
       "      <td>9.0</td>\n",
       "      <td>247.5</td>\n",
       "      <td>Credit Card</td>\n",
       "      <td>Online</td>\n",
       "      <td>2022-05-07</td>\n",
       "      <td>False</td>\n",
       "    </tr>\n",
       "    <tr>\n",
       "      <th>4</th>\n",
       "      <td>TXN_4575373</td>\n",
       "      <td>CUST_05</td>\n",
       "      <td>Food</td>\n",
       "      <td>Item_6_FOOD</td>\n",
       "      <td>12.5</td>\n",
       "      <td>7.0</td>\n",
       "      <td>87.5</td>\n",
       "      <td>Digital Wallet</td>\n",
       "      <td>Online</td>\n",
       "      <td>2022-10-02</td>\n",
       "      <td>False</td>\n",
       "    </tr>\n",
       "    <tr>\n",
       "      <th>...</th>\n",
       "      <td>...</td>\n",
       "      <td>...</td>\n",
       "      <td>...</td>\n",
       "      <td>...</td>\n",
       "      <td>...</td>\n",
       "      <td>...</td>\n",
       "      <td>...</td>\n",
       "      <td>...</td>\n",
       "      <td>...</td>\n",
       "      <td>...</td>\n",
       "      <td>...</td>\n",
       "    </tr>\n",
       "    <tr>\n",
       "      <th>12570</th>\n",
       "      <td>TXN_9347481</td>\n",
       "      <td>CUST_18</td>\n",
       "      <td>Patisserie</td>\n",
       "      <td>Item_23_PAT</td>\n",
       "      <td>38.0</td>\n",
       "      <td>4.0</td>\n",
       "      <td>152.0</td>\n",
       "      <td>Credit Card</td>\n",
       "      <td>In-store</td>\n",
       "      <td>2023-09-03</td>\n",
       "      <td>False</td>\n",
       "    </tr>\n",
       "    <tr>\n",
       "      <th>12571</th>\n",
       "      <td>TXN_4009414</td>\n",
       "      <td>CUST_03</td>\n",
       "      <td>Beverages</td>\n",
       "      <td>Item_2_BEV</td>\n",
       "      <td>6.5</td>\n",
       "      <td>9.0</td>\n",
       "      <td>58.5</td>\n",
       "      <td>Cash</td>\n",
       "      <td>Online</td>\n",
       "      <td>2022-08-12</td>\n",
       "      <td>False</td>\n",
       "    </tr>\n",
       "    <tr>\n",
       "      <th>12572</th>\n",
       "      <td>TXN_5306010</td>\n",
       "      <td>CUST_11</td>\n",
       "      <td>Butchers</td>\n",
       "      <td>Item_7_BUT</td>\n",
       "      <td>14.0</td>\n",
       "      <td>10.0</td>\n",
       "      <td>140.0</td>\n",
       "      <td>Cash</td>\n",
       "      <td>Online</td>\n",
       "      <td>2024-08-24</td>\n",
       "      <td>False</td>\n",
       "    </tr>\n",
       "    <tr>\n",
       "      <th>12573</th>\n",
       "      <td>TXN_5167298</td>\n",
       "      <td>CUST_04</td>\n",
       "      <td>Furniture</td>\n",
       "      <td>Item_7_FUR</td>\n",
       "      <td>14.0</td>\n",
       "      <td>6.0</td>\n",
       "      <td>84.0</td>\n",
       "      <td>Cash</td>\n",
       "      <td>Online</td>\n",
       "      <td>2023-12-30</td>\n",
       "      <td>True</td>\n",
       "    </tr>\n",
       "    <tr>\n",
       "      <th>12574</th>\n",
       "      <td>TXN_2407494</td>\n",
       "      <td>CUST_23</td>\n",
       "      <td>Food</td>\n",
       "      <td>Item_9_FOOD</td>\n",
       "      <td>17.0</td>\n",
       "      <td>3.0</td>\n",
       "      <td>51.0</td>\n",
       "      <td>Cash</td>\n",
       "      <td>Online</td>\n",
       "      <td>2022-08-06</td>\n",
       "      <td>False</td>\n",
       "    </tr>\n",
       "  </tbody>\n",
       "</table>\n",
       "<p>12575 rows × 11 columns</p>\n",
       "</div>"
      ],
      "text/plain": [
       "      Transaction ID Customer ID       Category          Item  Price Per Unit  \\\n",
       "0        TXN_6867343     CUST_09     Patisserie   Item_10_PAT            18.5   \n",
       "1        TXN_3731986     CUST_22  Milk Products  Item_17_MILK            29.0   \n",
       "2        TXN_9303719     CUST_02       Butchers   Item_12_BUT            21.5   \n",
       "3        TXN_9458126     CUST_06      Beverages   Item_16_BEV            27.5   \n",
       "4        TXN_4575373     CUST_05           Food   Item_6_FOOD            12.5   \n",
       "...              ...         ...            ...           ...             ...   \n",
       "12570    TXN_9347481     CUST_18     Patisserie   Item_23_PAT            38.0   \n",
       "12571    TXN_4009414     CUST_03      Beverages    Item_2_BEV             6.5   \n",
       "12572    TXN_5306010     CUST_11       Butchers    Item_7_BUT            14.0   \n",
       "12573    TXN_5167298     CUST_04      Furniture    Item_7_FUR            14.0   \n",
       "12574    TXN_2407494     CUST_23           Food   Item_9_FOOD            17.0   \n",
       "\n",
       "       Quantity  Total Spent  Payment Method  Location Transaction Date  \\\n",
       "0          10.0        185.0  Digital Wallet    Online       2024-04-08   \n",
       "1           9.0        261.0  Digital Wallet    Online       2023-07-23   \n",
       "2           2.0         43.0     Credit Card    Online       2022-10-05   \n",
       "3           9.0        247.5     Credit Card    Online       2022-05-07   \n",
       "4           7.0         87.5  Digital Wallet    Online       2022-10-02   \n",
       "...         ...          ...             ...       ...              ...   \n",
       "12570       4.0        152.0     Credit Card  In-store       2023-09-03   \n",
       "12571       9.0         58.5            Cash    Online       2022-08-12   \n",
       "12572      10.0        140.0            Cash    Online       2024-08-24   \n",
       "12573       6.0         84.0            Cash    Online       2023-12-30   \n",
       "12574       3.0         51.0            Cash    Online       2022-08-06   \n",
       "\n",
       "       Discount Applied  \n",
       "0                  True  \n",
       "1                  True  \n",
       "2                 False  \n",
       "3                 False  \n",
       "4                 False  \n",
       "...                 ...  \n",
       "12570             False  \n",
       "12571             False  \n",
       "12572             False  \n",
       "12573              True  \n",
       "12574             False  \n",
       "\n",
       "[12575 rows x 11 columns]"
      ]
     },
     "execution_count": 5,
     "metadata": {},
     "output_type": "execute_result"
    }
   ],
   "source": [
    "df['Item'] = df['Item'].fillna('Unknown')\n",
    "df['Discount Applied'] = df['Discount Applied'].fillna(False)\n",
    "df.fillna(0)"
   ]
  },
  {
   "cell_type": "code",
   "execution_count": 6,
   "metadata": {},
   "outputs": [
    {
     "data": {
      "text/plain": [
       "0"
      ]
     },
     "execution_count": 6,
     "metadata": {},
     "output_type": "execute_result"
    }
   ],
   "source": [
    "# #Cek Duplikat\n",
    "df.duplicated().sum()"
   ]
  },
  {
   "cell_type": "markdown",
   "metadata": {},
   "source": [
    "Melihat isi colum categorical yg ada"
   ]
  },
  {
   "cell_type": "code",
   "execution_count": 7,
   "metadata": {},
   "outputs": [
    {
     "name": "stdout",
     "output_type": "stream",
     "text": [
      "List Category: ['Patisserie' 'Milk Products' 'Butchers' 'Beverages' 'Food' 'Furniture'\n",
      " 'Electric household essentials' 'Computers and electric accessories']\n",
      "List Payment Method: ['Digital Wallet' 'Credit Card' 'Cash']\n",
      "List Location: ['Online' 'In-store']\n"
     ]
    }
   ],
   "source": [
    "print(\"List Category:\",df['Category'].unique())\n",
    "print(\"List Payment Method:\",df['Payment Method'].unique())\n",
    "print(\"List Location:\",df['Location'].unique())"
   ]
  },
  {
   "cell_type": "markdown",
   "metadata": {},
   "source": [
    "# Berdasarkan Eksplorasi, ada beberapa validasi yg bisa dilakukan\n",
    "1. Transaction ID harus unique\n",
    "2. Harga product yg dijual tidak boleh negatif (>0)\n",
    "3. Kategori penjualan hanya mencakup category tertentu\n",
    "4. Kolom 'Discount Applied' harus berupa boolean\n",
    "5. Transaction Date harus berupa datetime dengan format YYYY-MM-DD\n",
    "6. Transaction Date tidak boleh melebihi hari ini\n",
    "7. Harus ada kolom Transaction Date"
   ]
  },
  {
   "cell_type": "code",
   "execution_count": 8,
   "metadata": {},
   "outputs": [],
   "source": [
    "from great_expectations.data_context import FileDataContext\n",
    "\n",
    "# Buat Data Context\n",
    "context = FileDataContext.create(project_root_dir='./')"
   ]
  },
  {
   "cell_type": "code",
   "execution_count": 9,
   "metadata": {},
   "outputs": [
    {
     "data": {
      "application/vnd.jupyter.widget-view+json": {
       "model_id": "428fe10197244721a0c2f2160fbbc0aa",
       "version_major": 2,
       "version_minor": 0
      },
      "text/plain": [
       "Calculating Metrics:   0%|          | 0/1 [00:00<?, ?it/s]"
      ]
     },
     "metadata": {},
     "output_type": "display_data"
    },
    {
     "data": {
      "application/vnd.microsoft.datawrangler.viewer.v0+json": {
       "columns": [
        {
         "name": "index",
         "rawType": "int64",
         "type": "integer"
        },
        {
         "name": "Transaction ID",
         "rawType": "object",
         "type": "string"
        },
        {
         "name": "Customer ID",
         "rawType": "object",
         "type": "string"
        },
        {
         "name": "Category",
         "rawType": "object",
         "type": "string"
        },
        {
         "name": "Item",
         "rawType": "object",
         "type": "string"
        },
        {
         "name": "Price Per Unit",
         "rawType": "float64",
         "type": "float"
        },
        {
         "name": "Quantity",
         "rawType": "float64",
         "type": "float"
        },
        {
         "name": "Total Spent",
         "rawType": "float64",
         "type": "float"
        },
        {
         "name": "Payment Method",
         "rawType": "object",
         "type": "string"
        },
        {
         "name": "Location",
         "rawType": "object",
         "type": "string"
        },
        {
         "name": "Transaction Date",
         "rawType": "object",
         "type": "string"
        },
        {
         "name": "Discount Applied",
         "rawType": "object",
         "type": "unknown"
        }
       ],
       "conversionMethod": "pd.DataFrame",
       "ref": "7ce1fb2f-1559-4367-a95d-06578d7e26ce",
       "rows": [
        [
         "0",
         "TXN_6867343",
         "CUST_09",
         "Patisserie",
         "Item_10_PAT",
         "18.5",
         "10.0",
         "185.0",
         "Digital Wallet",
         "Online",
         "2024-04-08",
         "True"
        ],
        [
         "1",
         "TXN_3731986",
         "CUST_22",
         "Milk Products",
         "Item_17_MILK",
         "29.0",
         "9.0",
         "261.0",
         "Digital Wallet",
         "Online",
         "2023-07-23",
         "True"
        ],
        [
         "2",
         "TXN_9303719",
         "CUST_02",
         "Butchers",
         "Item_12_BUT",
         "21.5",
         "2.0",
         "43.0",
         "Credit Card",
         "Online",
         "2022-10-05",
         "False"
        ],
        [
         "3",
         "TXN_9458126",
         "CUST_06",
         "Beverages",
         "Item_16_BEV",
         "27.5",
         "9.0",
         "247.5",
         "Credit Card",
         "Online",
         "2022-05-07",
         null
        ],
        [
         "4",
         "TXN_4575373",
         "CUST_05",
         "Food",
         "Item_6_FOOD",
         "12.5",
         "7.0",
         "87.5",
         "Digital Wallet",
         "Online",
         "2022-10-02",
         "False"
        ]
       ],
       "shape": {
        "columns": 11,
        "rows": 5
       }
      },
      "text/html": [
       "<div>\n",
       "<style scoped>\n",
       "    .dataframe tbody tr th:only-of-type {\n",
       "        vertical-align: middle;\n",
       "    }\n",
       "\n",
       "    .dataframe tbody tr th {\n",
       "        vertical-align: top;\n",
       "    }\n",
       "\n",
       "    .dataframe thead th {\n",
       "        text-align: right;\n",
       "    }\n",
       "</style>\n",
       "<table border=\"1\" class=\"dataframe\">\n",
       "  <thead>\n",
       "    <tr style=\"text-align: right;\">\n",
       "      <th></th>\n",
       "      <th>Transaction ID</th>\n",
       "      <th>Customer ID</th>\n",
       "      <th>Category</th>\n",
       "      <th>Item</th>\n",
       "      <th>Price Per Unit</th>\n",
       "      <th>Quantity</th>\n",
       "      <th>Total Spent</th>\n",
       "      <th>Payment Method</th>\n",
       "      <th>Location</th>\n",
       "      <th>Transaction Date</th>\n",
       "      <th>Discount Applied</th>\n",
       "    </tr>\n",
       "  </thead>\n",
       "  <tbody>\n",
       "    <tr>\n",
       "      <th>0</th>\n",
       "      <td>TXN_6867343</td>\n",
       "      <td>CUST_09</td>\n",
       "      <td>Patisserie</td>\n",
       "      <td>Item_10_PAT</td>\n",
       "      <td>18.5</td>\n",
       "      <td>10.0</td>\n",
       "      <td>185.0</td>\n",
       "      <td>Digital Wallet</td>\n",
       "      <td>Online</td>\n",
       "      <td>2024-04-08</td>\n",
       "      <td>True</td>\n",
       "    </tr>\n",
       "    <tr>\n",
       "      <th>1</th>\n",
       "      <td>TXN_3731986</td>\n",
       "      <td>CUST_22</td>\n",
       "      <td>Milk Products</td>\n",
       "      <td>Item_17_MILK</td>\n",
       "      <td>29.0</td>\n",
       "      <td>9.0</td>\n",
       "      <td>261.0</td>\n",
       "      <td>Digital Wallet</td>\n",
       "      <td>Online</td>\n",
       "      <td>2023-07-23</td>\n",
       "      <td>True</td>\n",
       "    </tr>\n",
       "    <tr>\n",
       "      <th>2</th>\n",
       "      <td>TXN_9303719</td>\n",
       "      <td>CUST_02</td>\n",
       "      <td>Butchers</td>\n",
       "      <td>Item_12_BUT</td>\n",
       "      <td>21.5</td>\n",
       "      <td>2.0</td>\n",
       "      <td>43.0</td>\n",
       "      <td>Credit Card</td>\n",
       "      <td>Online</td>\n",
       "      <td>2022-10-05</td>\n",
       "      <td>False</td>\n",
       "    </tr>\n",
       "    <tr>\n",
       "      <th>3</th>\n",
       "      <td>TXN_9458126</td>\n",
       "      <td>CUST_06</td>\n",
       "      <td>Beverages</td>\n",
       "      <td>Item_16_BEV</td>\n",
       "      <td>27.5</td>\n",
       "      <td>9.0</td>\n",
       "      <td>247.5</td>\n",
       "      <td>Credit Card</td>\n",
       "      <td>Online</td>\n",
       "      <td>2022-05-07</td>\n",
       "      <td>NaN</td>\n",
       "    </tr>\n",
       "    <tr>\n",
       "      <th>4</th>\n",
       "      <td>TXN_4575373</td>\n",
       "      <td>CUST_05</td>\n",
       "      <td>Food</td>\n",
       "      <td>Item_6_FOOD</td>\n",
       "      <td>12.5</td>\n",
       "      <td>7.0</td>\n",
       "      <td>87.5</td>\n",
       "      <td>Digital Wallet</td>\n",
       "      <td>Online</td>\n",
       "      <td>2022-10-02</td>\n",
       "      <td>False</td>\n",
       "    </tr>\n",
       "  </tbody>\n",
       "</table>\n",
       "</div>"
      ],
      "text/plain": [
       "  Transaction ID Customer ID       Category          Item  Price Per Unit  \\\n",
       "0    TXN_6867343     CUST_09     Patisserie   Item_10_PAT            18.5   \n",
       "1    TXN_3731986     CUST_22  Milk Products  Item_17_MILK            29.0   \n",
       "2    TXN_9303719     CUST_02       Butchers   Item_12_BUT            21.5   \n",
       "3    TXN_9458126     CUST_06      Beverages   Item_16_BEV            27.5   \n",
       "4    TXN_4575373     CUST_05           Food   Item_6_FOOD            12.5   \n",
       "\n",
       "   Quantity  Total Spent  Payment Method Location Transaction Date  \\\n",
       "0      10.0        185.0  Digital Wallet   Online       2024-04-08   \n",
       "1       9.0        261.0  Digital Wallet   Online       2023-07-23   \n",
       "2       2.0         43.0     Credit Card   Online       2022-10-05   \n",
       "3       9.0        247.5     Credit Card   Online       2022-05-07   \n",
       "4       7.0         87.5  Digital Wallet   Online       2022-10-02   \n",
       "\n",
       "  Discount Applied  \n",
       "0             True  \n",
       "1             True  \n",
       "2            False  \n",
       "3              NaN  \n",
       "4            False  "
      ]
     },
     "execution_count": 9,
     "metadata": {},
     "output_type": "execute_result"
    }
   ],
   "source": [
    "# Tambahkan Pandas Datasource\n",
    "datasource_name = 'csv-data-bintang'\n",
    "datasource = context.sources.add_pandas(datasource_name)\n",
    "\n",
    "# Tambahkan Data Asset\n",
    "asset_name = 'bintang-transaction'\n",
    "path_to_data = 'P2M3_Bintang-Ksatrio_data_raw.csv'  # Pastikan path benar\n",
    "asset = datasource.add_csv_asset(asset_name, filepath_or_buffer=path_to_data)\n",
    "\n",
    "# Buat Batch Request\n",
    "batch_request = asset.build_batch_request()\n",
    "\n",
    "# Buat Expectation Suite\n",
    "expectation_suite_name = 'expectation-bintang-dataset'\n",
    "context.add_or_update_expectation_suite(expectation_suite_name)\n",
    "\n",
    "# Buat Validator\n",
    "validator = context.get_validator(\n",
    "    batch_request=batch_request,\n",
    "    expectation_suite_name=expectation_suite_name\n",
    ")\n",
    "\n",
    "# Cek Sample Data\n",
    "validator.head()"
   ]
  },
  {
   "cell_type": "code",
   "execution_count": 10,
   "metadata": {},
   "outputs": [],
   "source": [
    "df_ge = ge.from_pandas(df) "
   ]
  },
  {
   "cell_type": "code",
   "execution_count": 11,
   "metadata": {},
   "outputs": [
    {
     "data": {
      "text/plain": [
       "{\n",
       "  \"success\": true,\n",
       "  \"result\": {\n",
       "    \"element_count\": 12575,\n",
       "    \"missing_count\": 0,\n",
       "    \"missing_percent\": 0.0,\n",
       "    \"unexpected_count\": 0,\n",
       "    \"unexpected_percent\": 0.0,\n",
       "    \"unexpected_percent_total\": 0.0,\n",
       "    \"unexpected_percent_nonmissing\": 0.0,\n",
       "    \"partial_unexpected_list\": []\n",
       "  },\n",
       "  \"meta\": {},\n",
       "  \"exception_info\": {\n",
       "    \"raised_exception\": false,\n",
       "    \"exception_traceback\": null,\n",
       "    \"exception_message\": null\n",
       "  }\n",
       "}"
      ]
     },
     "execution_count": 11,
     "metadata": {},
     "output_type": "execute_result"
    }
   ],
   "source": [
    "# 1. Transaction ID harus unique\n",
    "df_ge.expect_column_values_to_be_unique(\"Transaction ID\")"
   ]
  },
  {
   "cell_type": "code",
   "execution_count": 12,
   "metadata": {},
   "outputs": [
    {
     "name": "stdout",
     "output_type": "stream",
     "text": [
      "Nilai Max: 41.0\n",
      "Nilai Min: 5.0\n"
     ]
    }
   ],
   "source": [
    "print(\"Nilai Max:\", df[\"Price Per Unit\"].max())\n",
    "print(\"Nilai Min:\", df['Price Per Unit'].min())"
   ]
  },
  {
   "cell_type": "code",
   "execution_count": null,
   "metadata": {},
   "outputs": [
    {
     "data": {
      "text/plain": [
       "{\n",
       "  \"success\": true,\n",
       "  \"result\": {\n",
       "    \"element_count\": 12575,\n",
       "    \"missing_count\": 609,\n",
       "    \"missing_percent\": 4.842942345924453,\n",
       "    \"unexpected_count\": 0,\n",
       "    \"unexpected_percent\": 0.0,\n",
       "    \"unexpected_percent_total\": 0.0,\n",
       "    \"unexpected_percent_nonmissing\": 0.0,\n",
       "    \"partial_unexpected_list\": []\n",
       "  },\n",
       "  \"meta\": {},\n",
       "  \"exception_info\": {\n",
       "    \"raised_exception\": false,\n",
       "    \"exception_traceback\": null,\n",
       "    \"exception_message\": null\n",
       "  }\n",
       "}"
      ]
     },
     "execution_count": 13,
     "metadata": {},
     "output_type": "execute_result"
    }
   ],
   "source": [
    "# 2. Harga product yg dijual tidak boleh negatif (>0)\n",
    "df_ge.expect_column_values_to_be_between(\"Price Per Unit\", min_value=0)"
   ]
  },
  {
   "cell_type": "code",
   "execution_count": null,
   "metadata": {},
   "outputs": [
    {
     "data": {
      "text/plain": [
       "{\n",
       "  \"success\": true,\n",
       "  \"result\": {\n",
       "    \"element_count\": 12575,\n",
       "    \"missing_count\": 0,\n",
       "    \"missing_percent\": 0.0,\n",
       "    \"unexpected_count\": 0,\n",
       "    \"unexpected_percent\": 0.0,\n",
       "    \"unexpected_percent_total\": 0.0,\n",
       "    \"unexpected_percent_nonmissing\": 0.0,\n",
       "    \"partial_unexpected_list\": []\n",
       "  },\n",
       "  \"meta\": {},\n",
       "  \"exception_info\": {\n",
       "    \"raised_exception\": false,\n",
       "    \"exception_traceback\": null,\n",
       "    \"exception_message\": null\n",
       "  }\n",
       "}"
      ]
     },
     "execution_count": 14,
     "metadata": {},
     "output_type": "execute_result"
    }
   ],
   "source": [
    "# 3. Kategori penjualan hanya ada:\n",
    "# Patisserie,Milk Products,Butchers,Beverages,Food,Furniture,\n",
    "# Electric household essentials, dan Computers and electric accessories\n",
    "valid_categories = ['Patisserie','Milk Products','Butchers','Beverages',\n",
    "                    'Food','Furniture','Electric household essentials',\n",
    "                    'Computers and electric accessories']\n",
    "df_ge.expect_column_values_to_be_in_set(\"Category\", valid_categories)"
   ]
  },
  {
   "cell_type": "code",
   "execution_count": null,
   "metadata": {},
   "outputs": [
    {
     "data": {
      "text/plain": [
       "{\n",
       "  \"success\": true,\n",
       "  \"result\": {\n",
       "    \"observed_value\": \"bool_\"\n",
       "  },\n",
       "  \"meta\": {},\n",
       "  \"exception_info\": {\n",
       "    \"raised_exception\": false,\n",
       "    \"exception_traceback\": null,\n",
       "    \"exception_message\": null\n",
       "  }\n",
       "}"
      ]
     },
     "execution_count": 15,
     "metadata": {},
     "output_type": "execute_result"
    }
   ],
   "source": [
    "# 4. Discount Applied harus berupa boolean\n",
    "df_ge.expect_column_values_to_be_in_type_list(\n",
    "    \"Discount Applied\", [\"bool\"])"
   ]
  },
  {
   "cell_type": "code",
   "execution_count": null,
   "metadata": {},
   "outputs": [
    {
     "data": {
      "text/plain": [
       "{\n",
       "  \"success\": true,\n",
       "  \"result\": {\n",
       "    \"element_count\": 12575,\n",
       "    \"missing_count\": 0,\n",
       "    \"missing_percent\": 0.0,\n",
       "    \"unexpected_count\": 0,\n",
       "    \"unexpected_percent\": 0.0,\n",
       "    \"unexpected_percent_total\": 0.0,\n",
       "    \"unexpected_percent_nonmissing\": 0.0,\n",
       "    \"partial_unexpected_list\": []\n",
       "  },\n",
       "  \"meta\": {},\n",
       "  \"exception_info\": {\n",
       "    \"raised_exception\": false,\n",
       "    \"exception_traceback\": null,\n",
       "    \"exception_message\": null\n",
       "  }\n",
       "}"
      ]
     },
     "execution_count": 16,
     "metadata": {},
     "output_type": "execute_result"
    }
   ],
   "source": [
    "# 5. Transaction Date harus berupa datetime \n",
    "# dengan format YYYY-MM-DD \n",
    "df_ge.expect_column_values_to_match_strftime_format(\n",
    "    \"Transaction Date\", \"%Y-%m-%d\")"
   ]
  },
  {
   "cell_type": "code",
   "execution_count": null,
   "metadata": {},
   "outputs": [
    {
     "data": {
      "text/plain": [
       "{\n",
       "  \"success\": true,\n",
       "  \"result\": {\n",
       "    \"element_count\": 12575,\n",
       "    \"missing_count\": 0,\n",
       "    \"missing_percent\": 0.0,\n",
       "    \"unexpected_count\": 0,\n",
       "    \"unexpected_percent\": 0.0,\n",
       "    \"unexpected_percent_total\": 0.0,\n",
       "    \"unexpected_percent_nonmissing\": 0.0,\n",
       "    \"partial_unexpected_list\": []\n",
       "  },\n",
       "  \"meta\": {},\n",
       "  \"exception_info\": {\n",
       "    \"raised_exception\": false,\n",
       "    \"exception_traceback\": null,\n",
       "    \"exception_message\": null\n",
       "  }\n",
       "}"
      ]
     },
     "execution_count": 17,
     "metadata": {},
     "output_type": "execute_result"
    }
   ],
   "source": [
    "# 6. Transaction Date tidak boleh melebihi hari ini\n",
    "today_date = datetime.datetime.today().strftime('%Y-%m-%d')\n",
    "df_ge.expect_column_values_to_be_between(\n",
    "    \"Transaction Date\", max_value=today_date)"
   ]
  },
  {
   "cell_type": "code",
   "execution_count": 18,
   "metadata": {},
   "outputs": [
    {
     "data": {
      "text/plain": [
       "{\n",
       "  \"success\": true,\n",
       "  \"result\": {},\n",
       "  \"meta\": {},\n",
       "  \"exception_info\": {\n",
       "    \"raised_exception\": false,\n",
       "    \"exception_traceback\": null,\n",
       "    \"exception_message\": null\n",
       "  }\n",
       "}"
      ]
     },
     "execution_count": 18,
     "metadata": {},
     "output_type": "execute_result"
    }
   ],
   "source": [
    "# 7. Harus ada kolom Transaction Date di data\n",
    "df_ge.expect_column_to_exist(\n",
    "    column=\"Transaction Date\"\n",
    ")"
   ]
  },
  {
   "cell_type": "code",
   "execution_count": 19,
   "metadata": {},
   "outputs": [],
   "source": [
    "validator.save_expectation_suite(discard_failed_expectations=False)"
   ]
  }
 ],
 "metadata": {
  "kernelspec": {
   "display_name": "base",
   "language": "python",
   "name": "python3"
  },
  "language_info": {
   "codemirror_mode": {
    "name": "ipython",
    "version": 3
   },
   "file_extension": ".py",
   "mimetype": "text/x-python",
   "name": "python",
   "nbconvert_exporter": "python",
   "pygments_lexer": "ipython3",
   "version": "3.9.20"
  }
 },
 "nbformat": 4,
 "nbformat_minor": 2
}
